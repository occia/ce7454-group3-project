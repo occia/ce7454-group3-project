{
 "cells": [
  {
   "cell_type": "code",
   "execution_count": 4,
   "metadata": {},
   "outputs": [
    {
     "name": "stdout",
     "output_type": "stream",
     "text": [
      "\u001b[33mWARNING: The directory '/home/palina/.cache/pip/http' or its parent directory is not owned by the current user and the cache has been disabled. Please check the permissions and owner of that directory. If executing pip with sudo, you may want sudo's -H flag.\u001b[0m\n",
      "\u001b[33mWARNING: The directory '/home/palina/.cache/pip' or its parent directory is not owned by the current user and caching wheels has been disabled. check the permissions and owner of that directory. If executing pip with sudo, you may want sudo's -H flag.\u001b[0m\n",
      "Requirement already satisfied: beautifulsoup4 in /usr/lib/python3/dist-packages (from -r requirements.txt (line 1)) (4.4.1)\n",
      "Requirement already satisfied: urllib3 in /usr/local/lib/python3.7/dist-packages (from -r requirements.txt (line 2)) (1.24.3)\n",
      "Requirement already satisfied: pillow in /usr/local/lib/python3.7/dist-packages (from -r requirements.txt (line 3)) (6.2.1)\n",
      "Requirement already satisfied: numpy in /usr/local/lib/python3.7/dist-packages (from -r requirements.txt (line 4)) (1.17.3)\n",
      "Requirement already satisfied: opencv-python in /usr/local/lib/python3.7/dist-packages (from -r requirements.txt (line 5)) (4.1.1.26)\n",
      "Requirement already satisfied: matplotlib in /usr/local/lib/python3.7/dist-packages (from -r requirements.txt (line 6)) (3.1.1)\n",
      "Collecting pandas\n",
      "\u001b[?25l  Downloading https://files.pythonhosted.org/packages/91/9d/217fc3c4fe19123fcb99385a35c3211e65d5eb07fbe8dd0008fae0d1fe74/pandas-0.25.2-cp37-cp37m-manylinux1_x86_64.whl (10.4MB)\n",
      "\u001b[K     |████████████████████████████████| 10.4MB 6.6MB/s eta 0:00:01\n",
      "\u001b[?25hRequirement already satisfied: python-dateutil>=2.1 in /usr/local/lib/python3.7/dist-packages (from matplotlib->-r requirements.txt (line 6)) (2.8.0)\n",
      "Requirement already satisfied: pyparsing!=2.0.4,!=2.1.2,!=2.1.6,>=2.0.1 in /usr/lib/python3/dist-packages (from matplotlib->-r requirements.txt (line 6)) (2.0.3)\n",
      "Requirement already satisfied: cycler>=0.10 in /usr/local/lib/python3.7/dist-packages (from matplotlib->-r requirements.txt (line 6)) (0.10.0)\n",
      "Requirement already satisfied: kiwisolver>=1.0.1 in /usr/local/lib/python3.7/dist-packages (from matplotlib->-r requirements.txt (line 6)) (1.1.0)\n",
      "Collecting pytz>=2017.2\n",
      "\u001b[?25l  Downloading https://files.pythonhosted.org/packages/e7/f9/f0b53f88060247251bf481fa6ea62cd0d25bf1b11a87888e53ce5b7c8ad2/pytz-2019.3-py2.py3-none-any.whl (509kB)\n",
      "\u001b[K     |████████████████████████████████| 512kB 11.8MB/s eta 0:00:01\n",
      "\u001b[?25hRequirement already satisfied: six>=1.5 in /usr/lib/python3/dist-packages (from python-dateutil>=2.1->matplotlib->-r requirements.txt (line 6)) (1.10.0)\n",
      "Requirement already satisfied: setuptools in /usr/local/lib/python3.7/dist-packages (from kiwisolver>=1.0.1->matplotlib->-r requirements.txt (line 6)) (41.0.1)\n",
      "Installing collected packages: pytz, pandas\n",
      "Successfully installed pandas-0.25.2 pytz-2019.3\n"
     ]
    }
   ],
   "source": [
    "# ---------------------------------------------\n",
    "# IMPORTS\n",
    "# ---------------------------------------------\n",
    "\n",
    "# External\n",
    "import sys\n",
    "!{sys.executable} -m pip install -r requirements.txt\n"
   ]
  },
  {
   "cell_type": "code",
   "execution_count": 43,
   "metadata": {},
   "outputs": [],
   "source": [
    "# import urllib.request as urllib\n",
    "import numpy as np\n",
    "# import cv2\n",
    "import json\n",
    "import re\n",
    "\n",
    "filtered_profiles = []\n",
    "\n",
    "# profiles JSON parsing for invalid users elimination\n",
    "chunks = [0, 1, 2, 3, 4, 5, 6, 11, 12, 14, 15, 16, 19, 21, 22, 23, 24, 25, 26, 27, 29, 30, 31, 32, 33, 34, 35, 36, 37, 38, 39, 40, 41, 42, 43, 45, 46, 47, 48, 49, 50, 51, 54, 55, 56, 57, 58, 59, 60, 61, 100, 101, 102, 103, 104, 105, 106, 107, 108, 109, 110, 111, 112, 113, 114, 115, 116, 117, 118, 119, 120, 121, 122, 123, 124, 125]\n",
    "\n",
    "for chunk in chunks:  \n",
    "    input_path = './data/parsed_profiles/parsed_profiles_%s.json' %chunk\n",
    "    output_path = './data/filtered_profiles/filtered_profiles_%s.json' %chunk\n",
    "\n",
    "    with open(input_path, 'r') as file:\n",
    "        user_profiles = json.load(file)\n",
    "        for user in user_profiles:\n",
    "            if user['is_valid'] == 'Y' and user['bio'] != ' ':\n",
    "                pattern = re.compile(\"(?:(?<!\\w)|(?<=\\\\[ntr]))(19[3-9]\\d|20[01]\\d|[1-9]\\d)(?!\\d)\")\n",
    "                if pattern.match(user['bio']):\n",
    "                    filtered_profiles.append(user)\n",
    "\n",
    "    with open(output_path, 'w') as outfile:\n",
    "        json.dump(filtered_profiles, outfile)"
   ]
  },
  {
   "cell_type": "code",
   "execution_count": 19,
   "metadata": {},
   "outputs": [],
   "source": [
    "# import urllib.request as urllib\n",
    "# import numpy as np\n",
    "# import cv2\n",
    "import json\n",
    "import re\n",
    "\n",
    "country = 'germany'\n",
    "\n",
    "filtered_profiles = []\n",
    "\n",
    "# profiles JSON parsing for invalid users elimination\n",
    "# chunks = [0, 1, 2, 3, 4, 5, 6, 11, 12, 14, 15, 16, 19, 21, 22, 23, 24, 25, 26, 27, 29, 30, 31, 32, 33, 34, 35, 36, 37, 38, 39, 40, 41, 42, 43, 45, 46, 47, 48, 49, 50, 51, 54, 55, 56, 57, 58, 59, 60, 61, 100, 101, 102, 103, 104, 105, 106, 107, 108, 109, 110, 111, 112, 113, 114, 115, 116, 117, 118, 119, 120, 121, 122, 123, 124, 125]\n",
    "\n",
    "# for chunk in chunks:  \n",
    "input_path = '/home/polina/ce7454-group3-project/data/test-data/germany/filtered_profiles.json'\n",
    "output_path = './data/test-data/filtered_twice_profiles.json'\n",
    "\n",
    "with open(input_path, 'r') as file:\n",
    "    user_profiles = json.load(file)\n",
    "    for user in user_profiles:\n",
    "        if user['is_valid'] == 'Y' and user['bio'] != ' ':\n",
    "            pattern = re.compile(\"(?:(?<!\\w)|(?<=\\\\[ntr]))(19[3-9]\\d|20[01]\\d|[1-9]\\d)(?!\\d)\")\n",
    "            age = pattern.match(user['bio'])\n",
    "            if age:\n",
    "                user['age'] = age.group(1)\n",
    "                user['country'] = country\n",
    "                filtered_profiles.append(user)\n",
    "\n",
    "with open(output_path, 'w') as outfile:\n",
    "    json.dump(filtered_profiles, outfile)"
   ]
  },
  {
   "cell_type": "code",
   "execution_count": 39,
   "metadata": {},
   "outputs": [],
   "source": [
    "# import urllib.request as urllib\n",
    "# import numpy as np\n",
    "# import cv2\n",
    "import json\n",
    "import re\n",
    "\n",
    "country = 'russia_copy'\n",
    "\n",
    "filtered_profiles = []\n",
    "\n",
    "# profiles JSON parsing for invalid users elimination\n",
    "# chunks = [0, 1, 2, 3, 4, 5, 6, 11, 12, 14, 15, 16, 19, 21, 22, 23, 24, 25, 26, 27, 29, 30, 31, 32, 33, 34, 35, 36, 37, 38, 39, 40, 41, 42, 43, 45, 46, 47, 48, 49, 50, 51, 54, 55, 56, 57, 58, 59, 60, 61, 100, 101, 102, 103, 104, 105, 106, 107, 108, 109, 110, 111, 112, 113, 114, 115, 116, 117, 118, 119, 120, 121, 122, 123, 124, 125]\n",
    "\n",
    "# for chunk in chunks:  \n",
    "input_path = './data/profiles/%s.json' %country\n",
    "output_path = './data/profiles/filtered/%s.json' %country\n",
    "\n",
    "with open(input_path, 'r') as file:\n",
    "    user_profiles = json.load(file)\n",
    "    for user in user_profiles:\n",
    "        if user['bio'] and user['bio'] != ' ':\n",
    "            pattern = re.compile(\"(?:(?<!\\w)|(?<=\\\\[ntr]))(19[3-9]\\d|20[01]\\d|[1-9]\\d)(?!\\d)\")\n",
    "            age = pattern.match(user['bio'])\n",
    "            str_name = str(user['name'])\n",
    "            name_age = pattern.match(str_name)\n",
    "            if age:\n",
    "                user['age'] = age.group(1)\n",
    "                filtered_profiles.append(user)\n",
    "\n",
    "with open(output_path, 'w') as outfile:\n",
    "    json.dump(filtered_profiles, outfile)"
   ]
  }
 ],
 "metadata": {
  "kernelspec": {
   "display_name": "Python 3",
   "language": "python",
   "name": "python3"
  },
  "language_info": {
   "codemirror_mode": {
    "name": "ipython",
    "version": 3
   },
   "file_extension": ".py",
   "mimetype": "text/x-python",
   "name": "python",
   "nbconvert_exporter": "python",
   "pygments_lexer": "ipython3",
   "version": "3.7.3"
  }
 },
 "nbformat": 4,
 "nbformat_minor": 2
}
