{
 "cells": [
  {
   "cell_type": "markdown",
   "metadata": {},
   "source": [
    "### Identity Acquisition"
   ]
  },
  {
   "cell_type": "code",
   "execution_count": null,
   "metadata": {},
   "outputs": [],
   "source": [
    "from src.evaluation.plot import plot_accuracy\n",
    "from src.evaluation.plot import plot_country_accuracy\n",
    "from src.evaluation.plot import plot_data\n",
    "from src.evaluation.plot import plot_binary_data"
   ]
  },
  {
   "cell_type": "markdown",
   "metadata": {},
   "source": [
    "### Network Accuracy"
   ]
  },
  {
   "cell_type": "code",
   "execution_count": null,
   "metadata": {},
   "outputs": [],
   "source": [
    "# Compare accuracy over different neural networks\n",
    "\n",
    "#plot_accuracy('ResNet','utk',1,'all')\n",
    "#plot_accuracy('ResNet','instagram',1,'all')\n",
    "#plot_accuracy('VGG','utk',1,'all')\n",
    "# plot_accuracy('VGG','instagram',1,'all')\n",
    "# plot_accuracy('MLP','utk',1,'all')\n",
    "# plot_accuracy('MLP','instagram',1,'all')\n",
    "\n",
    "plot_accuracy('ResNet','utk',6,'all')\n",
    "#plot_accuracy('ResNet','instagram',6,'all')\n",
    "plot_accuracy('VGG','utk',6,'all')\n",
    "# plot_accuracy('VGG','instagram',6,'all')\n",
    "plot_accuracy('MLP','utk',6,'all')\n",
    "# plot_accuracy('MLP','instagram',6,'all')\n",
    "\n",
    "# plot_accuracy('ResNet','utk',10,'all')\n",
    "# plot_accuracy('ResNet','instagram',10,'all')\n",
    "# plot_accuracy('VGG','utk',10,'all')\n",
    "# plot_accuracy('VGG','instagram',10,'all')\n",
    "# plot_accuracy('MLP','utk',10,'all')\n",
    "# plot_accuracy('MLP','instagram',10,'all')\n"
   ]
  },
  {
   "cell_type": "code",
   "execution_count": null,
   "metadata": {},
   "outputs": [],
   "source": [
    "# Compare accuracy over different countries for one given network\n",
    "plot_country_accuracy('VGG','utk',10)\n",
    "#plot_country_accuracy('ResNet','utk',10)\n",
    "#plot_country_accuracy('MLP','utk',10)"
   ]
  },
  {
   "cell_type": "markdown",
   "metadata": {},
   "source": [
    "### Age Perceive"
   ]
  },
  {
   "cell_type": "code",
   "execution_count": null,
   "metadata": {
    "scrolled": true
   },
   "outputs": [],
   "source": [
    "# Show How AI (network) perceives age for a give country and dataset\n",
    "\n",
    "plot_data('ResNet',10,'all')\n",
    "\n",
    "# HOW DOES AI PERCEIVE AGE OF DIFFERENT RACES?\n",
    "# 2) Perceived age per race\n",
    "\n",
    "#---------------------------\n",
    "# EUROPEAN\n",
    "#---------------------------\n",
    "\n",
    "# plot_data('ResNet',6,'australia')\n",
    "# plot_data('ResNet',1,'canada')\n",
    "# plot_data('ResNet',10,'germany')\n",
    "# plot_data('ResNet',10,'russia')\n",
    "\n",
    "#---------------------------\n",
    "# ASIAN\n",
    "#---------------------------\n",
    "\n",
    "# plot_data('ResNet',10,'china')\n",
    "# plot_data('ResNet',10,'india')\n",
    "# plot_data('ResNet',10,'indonesia')\n",
    "\n",
    "#---------------------------\n",
    "# MIDDLE EAST\n",
    "#---------------------------\n",
    "\n",
    "# plot_data('ResNet',10,'iran')\n",
    "\n",
    "#---------------------------\n",
    "# AFRICAN\n",
    "#---------------------------\n",
    "\n",
    "# plot_data('ResNet',10,'ethiopia')\n",
    "\n",
    "#---------------------------\n",
    "# HISPANIC\n",
    "#---------------------------\n",
    "\n",
    "# plot_data('ResNet',10,'brazil')\n"
   ]
  },
  {
   "cell_type": "markdown",
   "metadata": {},
   "source": [
    "### Age Authentication"
   ]
  },
  {
   "cell_type": "code",
   "execution_count": null,
   "metadata": {
    "scrolled": true
   },
   "outputs": [],
   "source": [
    "# Show accuracy for age prediction of a given network and a given country\n",
    "\n",
    "plot_binary_data('ResNet',6,'all')\n",
    "\n",
    "#---------------------------\n",
    "# EUROPEAN\n",
    "#---------------------------\n",
    "\n",
    "# plot_binary_data('ResNet',10,'australia')\n",
    "# plot_binary_data('ResNet',10,'canada')\n",
    "# plot_binary_data('ResNet',10,'germany')\n",
    "# plot_binary_data('ResNet',10,'russia')\n",
    "\n",
    "#---------------------------\n",
    "# ASIAN\n",
    "#---------------------------\n",
    "\n",
    "# plot_binary_data('ResNet',10,'china')\n",
    "# plot_binary_data('ResNet',10,'india')\n",
    "# plot_binary_data('ResNet',10,'indonesia')\n",
    "\n",
    "#---------------------------\n",
    "# MIDDLE EAST\n",
    "#---------------------------\n",
    "\n",
    "# plot_binary_data('ResNet',10,'iran')\n",
    "\n",
    "#---------------------------\n",
    "# AFRICAN\n",
    "#---------------------------\n",
    "\n",
    "# plot_binary_data('ResNet',10,'ethiopia')\n",
    "\n",
    "#---------------------------\n",
    "# HISPANIC\n",
    "#---------------------------\n",
    "\n",
    "# plot_binary_data('ResNet',10,'brazil')"
   ]
  },
  {
   "cell_type": "code",
   "execution_count": null,
   "metadata": {},
   "outputs": [],
   "source": []
  }
 ],
 "metadata": {
  "kernelspec": {
   "display_name": "Python 3",
   "language": "python",
   "name": "python3"
  },
  "language_info": {
   "codemirror_mode": {
    "name": "ipython",
    "version": 3
   },
   "file_extension": ".py",
   "mimetype": "text/x-python",
   "name": "python",
   "nbconvert_exporter": "python",
   "pygments_lexer": "ipython3",
   "version": "3.6.9"
  }
 },
 "nbformat": 4,
 "nbformat_minor": 2
}
