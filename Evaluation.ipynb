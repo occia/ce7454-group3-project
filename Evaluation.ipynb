{
 "cells": [
  {
   "cell_type": "markdown",
   "metadata": {},
   "source": [
    "### Identity Acquisition"
   ]
  },
  {
   "cell_type": "code",
   "execution_count": null,
   "metadata": {},
   "outputs": [],
   "source": [
    "# How accurate for each particular age? (Insta + BM)\n",
    "\n",
    "# --------------------\n",
    "# ACCURACY\n",
    "# - BM - Insta\n",
    "# --------------------\n",
    "# IS AGE CLASSIFICATION FEASABLE IN GENERAL AND FOR WHAT AGE IN SPECIFIC?\n",
    "# 1) Bar Chart with mean accuracy per age\n",
    "\n",
    "# AT WHAT AGE DOES IT GET DIFFICULT TO USE AGE CLASSIFICATION?\n",
    "# 2) Bar Chart with age range 95% coverage per age -> At what age is it difficult to classify humans \n",
    "\n",
    "# WHAT RACE IS BEST AND WORST SUITED FOR AGE CLASSIFICATION?\n",
    "# 3) Bar Chart with age range 95% coverage per race per age -> Where is it even more difficult or less\n",
    "\n",
    "# --------------------\n",
    "# BIAS\n",
    "# - BM - Insta\n",
    "# --------------------\n",
    "# HOW DOES AI PERCEIVE AGE?\n",
    "# 1) Perceived age in general\n",
    "\n",
    "# HOW DOES AI PERCEIVE AGE OF DIFFERENT RACES?\n",
    "# 2) Perceived age per race\n",
    "\n"
   ]
  }
 ],
 "metadata": {
  "kernelspec": {
   "display_name": "Python 3",
   "language": "python",
   "name": "python3"
  },
  "language_info": {
   "codemirror_mode": {
    "name": "ipython",
    "version": 3
   },
   "file_extension": ".py",
   "mimetype": "text/x-python",
   "name": "python",
   "nbconvert_exporter": "python",
   "pygments_lexer": "ipython3",
   "version": "3.7.3"
  }
 },
 "nbformat": 4,
 "nbformat_minor": 2
}
